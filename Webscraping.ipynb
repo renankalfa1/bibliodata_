{
 "cells": [
  {
   "cell_type": "code",
   "execution_count": 56,
   "metadata": {},
   "outputs": [],
   "source": [
    "import pandas as pd\n",
    "import numpy as np\n",
    "\n",
    "import warnings\n",
    "warnings.filterwarnings('ignore')\n",
    "\n",
    "from selenium import webdriver\n",
    "from selenium.webdriver.common.keys import Keys\n",
    "from selenium.webdriver.common.by import By\n",
    "\n",
    "import threading\n",
    "import os"
   ]
  },
  {
   "cell_type": "code",
   "execution_count": 115,
   "metadata": {},
   "outputs": [],
   "source": [
    "resultados_finais = []\n",
    "\n",
    "def verifica_issn(issn='0100-1574', site_url='', navegador=webdriver.Chrome):\n",
    "    navegador.get(site_url)\n",
    "\n",
    "    # Pesquisar o valor\n",
    "    caixa = navegador.find_element(By.XPATH, r'/html/body/div[4]/div/form/div/div/div[1]/input')\n",
    "    caixa.send_keys(issn)\n",
    "    navegador.find_element(By.XPATH, r'/html/body/div[4]/div/form/div/div/input').click()\n",
    "\n",
    "    # Verificar se existe o campo e se constam 2 ou mais registros\n",
    "    try:\n",
    "        valor = navegador.find_element(By.XPATH, r'/html/body/div[4]/div/div[2]/div[1]/div/div[3]/div/div/form/div/div[1]/h2').text\n",
    "    except:\n",
    "        try:\n",
    "            valor = navegador.find_element(By.XPATH, r'/html/body/div[5]/div/div[1]/div/div/div[1]/h3').text\n",
    "        except:\n",
    "            valor = 'Registro único'\n",
    "\n",
    "    return valor\n",
    "\n",
    "def webscraper(list_issn=list):\n",
    "    global resultados_finais\n",
    "\n",
    "    site = 'https://portal.issn.org/'\n",
    "\n",
    "    # Abrir o navegador\n",
    "    cService = webdriver.ChromeService(executable_path='C:\\chromedriver.exe')\n",
    "    navegador = webdriver.Chrome(service = cService)\n",
    "    \n",
    "    resultados = []\n",
    "    for issn in list_issn:\n",
    "        resultado = verifica_issn(issn, site_url=site, navegador=navegador)\n",
    "        resultados.append(resultado)\n",
    "\n",
    "    navegador.quit()\n",
    "\n",
    "    resultado_final = pd.DataFrame({'ISSN':list_issn, 'Resultado':resultados})\n",
    "    resultados_finais.append(resultado_final)"
   ]
  },
  {
   "cell_type": "markdown",
   "metadata": {},
   "source": [
    "Gera arquivo com ISSN válidos"
   ]
  },
  {
   "cell_type": "code",
   "execution_count": 2,
   "metadata": {},
   "outputs": [],
   "source": [
    "base_issn = pd.read_csv('registro_bibliografico_202410290742.csv', delimiter=';')\n",
    "base_issn = base_issn[base_issn[\"issn\"].str.len() <= 9]\n",
    "base_issn.shape"
   ]
  },
  {
   "cell_type": "markdown",
   "metadata": {},
   "source": [
    "Carrega Lista ISSN com Categoria (Brasil ou não)"
   ]
  },
  {
   "cell_type": "code",
   "execution_count": 55,
   "metadata": {},
   "outputs": [
    {
     "data": {
      "text/plain": [
       "(10798, 5)"
      ]
     },
     "execution_count": 55,
     "metadata": {},
     "output_type": "execute_result"
    }
   ],
   "source": [
    "issn_full = pd.read_excel(r'K:/Download/Bibliodata ISSN/Fisico x Digital - ISSN.xlsx', sheet_name='Bibliodata')\n",
    "\n",
    "# Filtra apenas registros fora do Brasil\n",
    "issn_full = issn_full[issn_full['É do Brasil?'] == False]\n",
    "issn_full.shape"
   ]
  },
  {
   "cell_type": "code",
   "execution_count": 108,
   "metadata": {},
   "outputs": [],
   "source": [
    "# Separa os registros em 6 listas\n",
    "issn_full_list = issn_full['issn'].to_list()\n",
    "list1, list2, list3, list4, list5, list6, list7, list8, list9, list10 = np.array_split(issn_full_list, 10)"
   ]
  },
  {
   "cell_type": "code",
   "execution_count": 116,
   "metadata": {},
   "outputs": [],
   "source": [
    "worker1 = threading.Thread(target=webscraper, args=(list1,))\n",
    "worker2 = threading.Thread(target=webscraper, args=(list2,))\n",
    "worker3 = threading.Thread(target=webscraper, args=(list3,))\n",
    "worker4 = threading.Thread(target=webscraper, args=(list4,))\n",
    "worker5 = threading.Thread(target=webscraper, args=(list5,))\n",
    "worker6 = threading.Thread(target=webscraper, args=(list6,))\n",
    "worker7 = threading.Thread(target=webscraper, args=(list7,))\n",
    "worker8 = threading.Thread(target=webscraper, args=(list8,))\n",
    "worker9 = threading.Thread(target=webscraper, args=(list9,))\n",
    "worker10 = threading.Thread(target=webscraper, args=(list10,))\n",
    "\n",
    "worker1.start()\n",
    "worker2.start()\n",
    "worker3.start()\n",
    "worker4.start()\n",
    "worker5.start()\n",
    "worker6.start()\n",
    "worker7.start()\n",
    "worker8.start()\n",
    "worker9.start()\n",
    "worker10.start()\n",
    "\n",
    "worker1.join()\n",
    "worker2.join()\n",
    "worker3.join()\n",
    "worker4.join()\n",
    "worker5.join()\n",
    "worker6.join()\n",
    "worker7.join()\n",
    "worker8.join()\n",
    "worker9.join()\n",
    "worker10.join()"
   ]
  },
  {
   "cell_type": "code",
   "execution_count": 121,
   "metadata": {},
   "outputs": [],
   "source": [
    "datasets = resultados_finais\n",
    "\n",
    "issn_full_final = pd.DataFrame()\n",
    "for c in datasets:\n",
    "    issn_full_final = pd.concat([issn_full_final, c])"
   ]
  },
  {
   "cell_type": "code",
   "execution_count": 123,
   "metadata": {},
   "outputs": [],
   "source": [
    "issn_full_final.to_excel('issn_nao_brasil_final.xlsx', index=False)"
   ]
  }
 ],
 "metadata": {
  "kernelspec": {
   "display_name": "base",
   "language": "python",
   "name": "python3"
  },
  "language_info": {
   "codemirror_mode": {
    "name": "ipython",
    "version": 3
   },
   "file_extension": ".py",
   "mimetype": "text/x-python",
   "name": "python",
   "nbconvert_exporter": "python",
   "pygments_lexer": "ipython3",
   "version": "3.11.5"
  }
 },
 "nbformat": 4,
 "nbformat_minor": 2
}
