{
 "cells": [
  {
   "cell_type": "code",
   "execution_count": 2,
   "metadata": {},
   "outputs": [],
   "source": [
    "import pandas as pd\n",
    "import numpy as np\n",
    "import time\n",
    "\n",
    "import pyodbc\n",
    "import warnings\n",
    "warnings.filterwarnings('ignore')\n",
    "\n",
    "from selenium import webdriver\n",
    "from selenium.webdriver.common.keys import Keys\n",
    "from selenium.webdriver.common.by import By"
   ]
  },
  {
   "cell_type": "code",
   "execution_count": 3,
   "metadata": {},
   "outputs": [],
   "source": [
    "base_issn = pd.read_csv('registro_bibliografico_202410151439.csv', delimiter=';')"
   ]
  },
  {
   "cell_type": "code",
   "execution_count": 4,
   "metadata": {},
   "outputs": [
    {
     "data": {
      "text/plain": [
       "((27532, 2), 5)"
      ]
     },
     "execution_count": 4,
     "metadata": {},
     "output_type": "execute_result"
    }
   ],
   "source": [
    "base_issn = base_issn[base_issn[\"issn\"].str.len() <= 9]\n",
    "base_issn = base_issn[~base_issn[\"issn\"].str.contains('X')]\n",
    "list_issn = base_issn['issn'].head(5).to_list()\n",
    "base_issn.shape, len(list_issn)"
   ]
  },
  {
   "cell_type": "code",
   "execution_count": 9,
   "metadata": {},
   "outputs": [],
   "source": [
    "site = 'https://portal.issn.org/'\n",
    "\n",
    "# Abrir o navegador\n",
    "cService = webdriver.ChromeService(executable_path='C:\\chromedriver.exe')\n",
    "navegador= webdriver.Chrome(service = cService)\n",
    "    \n",
    "def verifica_issn(issn='0100-1574'):\n",
    "    navegador.get(site)\n",
    "\n",
    "    # Pesquisar o valor\n",
    "    caixa = navegador.find_element(By.XPATH, r'/html/body/div[4]/div/form/div/div/div[1]/input')\n",
    "    caixa.send_keys(issn)\n",
    "    navegador.find_element(By.XPATH, r'/html/body/div[4]/div/form/div/div/input').click()\n",
    "\n",
    "    # Verificar se existe o campo e se constam 2 ou mais registros\n",
    "    try:\n",
    "        valor = navegador.find_element(By.XPATH, r'/html/body/div[4]/div/div[2]/div[1]/div/div[3]/div/div/form/div/div[1]/h2').text\n",
    "    except:\n",
    "        valor = 'Registro único'\n",
    "\n",
    "    return valor\n",
    "    \n",
    "resultados = []\n",
    "for issn in list_issn:\n",
    "    resultado = verifica_issn(issn)\n",
    "    resultados.append(resultado)\n",
    "\n",
    "navegador.quit()"
   ]
  },
  {
   "cell_type": "code",
   "execution_count": 8,
   "metadata": {},
   "outputs": [
    {
     "data": {
      "text/html": [
       "<div>\n",
       "<style scoped>\n",
       "    .dataframe tbody tr th:only-of-type {\n",
       "        vertical-align: middle;\n",
       "    }\n",
       "\n",
       "    .dataframe tbody tr th {\n",
       "        vertical-align: top;\n",
       "    }\n",
       "\n",
       "    .dataframe thead th {\n",
       "        text-align: right;\n",
       "    }\n",
       "</style>\n",
       "<table border=\"1\" class=\"dataframe\">\n",
       "  <thead>\n",
       "    <tr style=\"text-align: right;\">\n",
       "      <th></th>\n",
       "      <th>ISSN</th>\n",
       "      <th>Resultado</th>\n",
       "    </tr>\n",
       "  </thead>\n",
       "  <tbody>\n",
       "    <tr>\n",
       "      <th>0</th>\n",
       "      <td>0100-1574</td>\n",
       "      <td>2 results found based on your search</td>\n",
       "    </tr>\n",
       "    <tr>\n",
       "      <th>1</th>\n",
       "      <td>1415-8175</td>\n",
       "      <td>2 results found based on your search</td>\n",
       "    </tr>\n",
       "    <tr>\n",
       "      <th>2</th>\n",
       "      <td>0101-0405</td>\n",
       "      <td>Registro único</td>\n",
       "    </tr>\n",
       "    <tr>\n",
       "      <th>3</th>\n",
       "      <td>1414-4077</td>\n",
       "      <td>2 results found based on your search</td>\n",
       "    </tr>\n",
       "    <tr>\n",
       "      <th>4</th>\n",
       "      <td>1677-4833</td>\n",
       "      <td>2 results found based on your search</td>\n",
       "    </tr>\n",
       "  </tbody>\n",
       "</table>\n",
       "</div>"
      ],
      "text/plain": [
       "        ISSN                             Resultado\n",
       "0  0100-1574  2 results found based on your search\n",
       "1  1415-8175  2 results found based on your search\n",
       "2  0101-0405                        Registro único\n",
       "3  1414-4077  2 results found based on your search\n",
       "4  1677-4833  2 results found based on your search"
      ]
     },
     "metadata": {},
     "output_type": "display_data"
    }
   ],
   "source": [
    "base_final = pd.DataFrame({'ISSN':list_issn,\n",
    "                           'Resultado':resultados})\n",
    "display(base_final)"
   ]
  }
 ],
 "metadata": {
  "kernelspec": {
   "display_name": "base",
   "language": "python",
   "name": "python3"
  },
  "language_info": {
   "codemirror_mode": {
    "name": "ipython",
    "version": 3
   },
   "file_extension": ".py",
   "mimetype": "text/x-python",
   "name": "python",
   "nbconvert_exporter": "python",
   "pygments_lexer": "ipython3",
   "version": "3.11.5"
  }
 },
 "nbformat": 4,
 "nbformat_minor": 2
}
